{
 "cells": [
  {
   "cell_type": "code",
   "execution_count": 1,
   "id": "37f4f5e6",
   "metadata": {},
   "outputs": [
    {
     "name": "stderr",
     "output_type": "stream",
     "text": [
      "/home/robert/.local/lib/python3.10/site-packages/matplotlib/projections/__init__.py:63: UserWarning: Unable to import Axes3D. This may be due to multiple versions of Matplotlib being installed (e.g. as a system package and as a pip package). As a result, the 3D projection is not available.\n",
      "  warnings.warn(\"Unable to import Axes3D. This may be due to multiple versions of \"\n"
     ]
    }
   ],
   "source": [
    "import numpy as np\n",
    "import os\n",
    "import matplotlib.pyplot as plt\n",
    "from IPython.display import display"
   ]
  },
  {
   "cell_type": "code",
   "execution_count": 2,
   "id": "449983fc",
   "metadata": {},
   "outputs": [],
   "source": [
    "def generate_kmeans_data(N, K, output_dir=None, seed=42, visualize=True, save_files=True):\n",
    "    # Set random seed if specified\n",
    "    if seed is not None:\n",
    "        np.random.seed(seed)\n",
    "    \n",
    "    # Create output directory if it doesn't exist\n",
    "    if save_files:\n",
    "        os.makedirs(output_dir, exist_ok=True)\n",
    "    \n",
    "    # Define centers for the clusters (spaced apart for visual verification)\n",
    "    centers = np.linspace(0, 10*(K-1), K)\n",
    "    \n",
    "    # Generate points around each center with some standard deviation\n",
    "    points = []\n",
    "    points_per_cluster = N // K\n",
    "    remaining = N % K\n",
    "    \n",
    "    # Track standard deviations for reporting\n",
    "    std_devs = []\n",
    "    \n",
    "    for i in range(K):\n",
    "        # Add some randomness to standard deviation for variety\n",
    "        std_dev = 1.0 + 0.5 * np.random.rand()\n",
    "        std_devs.append(std_dev)\n",
    "        \n",
    "        # Generate points for this cluster\n",
    "        cluster_size = points_per_cluster + (1 if i < remaining else 0)\n",
    "        cluster_points = np.random.normal(centers[i], std_dev, cluster_size)\n",
    "        points.append(cluster_points)\n",
    "    \n",
    "    # Combine all points and shuffle\n",
    "    all_points = np.concatenate(points)\n",
    "    np.random.shuffle(all_points)\n",
    "    \n",
    "    # Generate initial centroids randomly within the data range\n",
    "    min_val, max_val = all_points.min(), all_points.max()\n",
    "    initial_centroids = np.random.uniform(min_val, max_val, K)\n",
    "    initial_centroids.sort()  # Sort for better interpretability\n",
    "    \n",
    "    # Save to CSV files if requested\n",
    "    if save_files:\n",
    "        np.savetxt(f\"{output_dir}/points_{N}.csv\", all_points, fmt='%.6f')\n",
    "        np.savetxt(f\"{output_dir}/centers_{K}.csv\", initial_centroids, fmt='%.6f')\n",
    "        print(f\"Files saved to {output_dir}/dados.csv and {output_dir}/centroides_iniciais.csv\")\n",
    "    \n",
    "    print(f\"Generated {N} data points and {K} initial centroids\")\n",
    "    print(f\"Data range: [{min_val:.2f}, {max_val:.2f}]\")\n",
    "    print(f\"True cluster centers: {centers}\")\n",
    "    print(f\"Cluster standard deviations: {[f'{sd:.2f}' for sd in std_devs]}\")\n",
    "    \n",
    "    # Create visualization if requested\n",
    "    if visualize and N <= 100000:  # Limit visualization to reasonable sizes\n",
    "        plt.figure(figsize=(12, 6))\n",
    "        \n",
    "        # Plot histogram of points\n",
    "        plt.hist(all_points, bins=50, alpha=0.7)\n",
    "        \n",
    "        # Mark true centers\n",
    "        for center in centers:\n",
    "            plt.axvline(center, color='r', linestyle='--', alpha=0.5)\n",
    "        \n",
    "        # Mark initial centroids\n",
    "        for centroid in initial_centroids:\n",
    "            plt.axvline(centroid, color='g', linestyle='-', alpha=0.8)\n",
    "        \n",
    "        plt.title(f'K-means 1D Synthetic Data (N={N}, K={K})')\n",
    "        plt.xlabel('Value')\n",
    "        plt.ylabel('Frequency')\n",
    "        plt.legend(['True Centers', 'Initial Centroids', 'Data Points'])\n",
    "        \n",
    "        # Save figure if saving files\n",
    "        if save_files:\n",
    "            plt.savefig(f\"{output_dir}/data_visualization.png\")\n",
    "            print(f\"Visualization saved to {output_dir}/data_visualization.png\")\n",
    "        \n",
    "        # Display directly in notebook\n",
    "        plt.show()\n",
    "    \n",
    "    return all_points, initial_centroids, centers"
   ]
  },
  {
   "cell_type": "code",
   "execution_count": 5,
   "id": "08f71afd",
   "metadata": {},
   "outputs": [
    {
     "name": "stdout",
     "output_type": "stream",
     "text": [
      "Files saved to ./data/dados.csv and ./data/centroides_iniciais.csv\n",
      "Generated 1000000 data points and 16 initial centroids\n",
      "Data range: [-4.97, 155.09]\n",
      "True cluster centers: [  0.  10.  20.  30.  40.  50.  60.  70.  80.  90. 100. 110. 120. 130.\n",
      " 140. 150.]\n",
      "Cluster standard deviations: ['1.19', '1.49', '1.17', '1.28', '1.35', '1.08', '1.49', '1.08', '1.29', '1.06', '1.06', '1.31', '1.43', '1.39', '1.16', '1.23']\n"
     ]
    },
    {
     "data": {
      "text/plain": [
       "(array([ 58.21610916,  79.91939636, 118.92240982, ..., 101.39083308,\n",
       "         99.85401875,   1.41031896]),\n",
       " array([ 22.27423596,  27.74828219,  29.74914949,  34.10879683,\n",
       "         43.4789237 ,  49.20444817,  81.16410664,  86.3997171 ,\n",
       "        109.38511023, 127.69826044, 134.19347059, 146.44657725,\n",
       "        147.85982176, 148.81319643, 148.89002678, 150.57429602]),\n",
       " array([  0.,  10.,  20.,  30.,  40.,  50.,  60.,  70.,  80.,  90., 100.,\n",
       "        110., 120., 130., 140., 150.]))"
      ]
     },
     "execution_count": 5,
     "metadata": {},
     "output_type": "execute_result"
    }
   ],
   "source": [
    "generate_kmeans_data(1000000, 16, \"./data\")"
   ]
  }
 ],
 "metadata": {
  "kernelspec": {
   "display_name": "Python 3",
   "language": "python",
   "name": "python3"
  },
  "language_info": {
   "codemirror_mode": {
    "name": "ipython",
    "version": 3
   },
   "file_extension": ".py",
   "mimetype": "text/x-python",
   "name": "python",
   "nbconvert_exporter": "python",
   "pygments_lexer": "ipython3",
   "version": "3.10.12"
  }
 },
 "nbformat": 4,
 "nbformat_minor": 5
}
